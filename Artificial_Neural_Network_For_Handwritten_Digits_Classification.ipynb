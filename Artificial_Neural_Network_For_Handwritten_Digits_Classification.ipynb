{
  "nbformat": 4,
  "nbformat_minor": 0,
  "metadata": {
    "colab": {
      "name": "Artificial Neural Network For Handwritten Digits Classification",
      "provenance": [],
      "collapsed_sections": [
        "ddfE5pPIlNF0",
        "fWPDtUVfo49z",
        "7kDWJyLGqKfn",
        "JVyIMkEbtPHU"
      ]
    },
    "kernelspec": {
      "name": "python3",
      "display_name": "Python 3"
    },
    "language_info": {
      "name": "python"
    }
  },
  "cells": [
    {
      "cell_type": "markdown",
      "metadata": {
        "id": "hdNh8Xykj_T1"
      },
      "source": [
        "It is a simple neural network, that will have only one input layer and one output layer. It will use the MNIST Dataset and classify the input image. "
      ]
    },
    {
      "cell_type": "markdown",
      "metadata": {
        "id": "EL6GH9D9kZPP"
      },
      "source": [
        "The image is in the form of 28 by 28 grid pixel. To fed this image into the input layer we will convert it into 1 dimensional array. "
      ]
    },
    {
      "cell_type": "markdown",
      "metadata": {
        "id": "ddfE5pPIlNF0"
      },
      "source": [
        "### **Importing Libraries**"
      ]
    },
    {
      "cell_type": "code",
      "metadata": {
        "id": "lxs9potJjLSX"
      },
      "source": [
        "import tensorflow as tf\n",
        "from tensorflow import keras \n",
        "\n",
        "import numpy as np\n",
        "import seaborn as sns\n",
        "import matplotlib.pyplot as plt\n",
        "%matplotlib inline"
      ],
      "execution_count": 44,
      "outputs": []
    },
    {
      "cell_type": "code",
      "metadata": {
        "id": "QJTKhLndlvxs"
      },
      "source": [
        "(X_train, y_train), (X_test, y_test) = keras.datasets.mnist.load_data()"
      ],
      "execution_count": 19,
      "outputs": []
    },
    {
      "cell_type": "markdown",
      "metadata": {
        "id": "OZoGZauQnjYt"
      },
      "source": [
        "Exploring the dataset that we have:"
      ]
    },
    {
      "cell_type": "code",
      "metadata": {
        "colab": {
          "base_uri": "https://localhost:8080/"
        },
        "id": "Tj4uI5A9ndcA",
        "outputId": "af8a2c99-c119-49b9-92a3-48fbcfe082cc"
      },
      "source": [
        "# Length of the train dataset\n",
        "len(X_train)"
      ],
      "execution_count": 20,
      "outputs": [
        {
          "output_type": "execute_result",
          "data": {
            "text/plain": [
              "60000"
            ]
          },
          "metadata": {},
          "execution_count": 20
        }
      ]
    },
    {
      "cell_type": "code",
      "metadata": {
        "colab": {
          "base_uri": "https://localhost:8080/"
        },
        "id": "kwC35-QEnylA",
        "outputId": "6b964d0b-b068-47f3-8b03-bab4bdf5b881"
      },
      "source": [
        "# Length of test dataset\n",
        "len(X_test)"
      ],
      "execution_count": 21,
      "outputs": [
        {
          "output_type": "execute_result",
          "data": {
            "text/plain": [
              "10000"
            ]
          },
          "metadata": {},
          "execution_count": 21
        }
      ]
    },
    {
      "cell_type": "markdown",
      "metadata": {
        "id": "Ehxy5fvPn-cY"
      },
      "source": [
        "Taking the first data of the dataset"
      ]
    },
    {
      "cell_type": "code",
      "metadata": {
        "colab": {
          "base_uri": "https://localhost:8080/"
        },
        "id": "mA63BYXFn98N",
        "outputId": "62fc31b0-48d6-4d92-f60e-854f9b184461"
      },
      "source": [
        "X_train[0]"
      ],
      "execution_count": 22,
      "outputs": [
        {
          "output_type": "execute_result",
          "data": {
            "text/plain": [
              "array([[  0,   0,   0,   0,   0,   0,   0,   0,   0,   0,   0,   0,   0,\n",
              "          0,   0,   0,   0,   0,   0,   0,   0,   0,   0,   0,   0,   0,\n",
              "          0,   0],\n",
              "       [  0,   0,   0,   0,   0,   0,   0,   0,   0,   0,   0,   0,   0,\n",
              "          0,   0,   0,   0,   0,   0,   0,   0,   0,   0,   0,   0,   0,\n",
              "          0,   0],\n",
              "       [  0,   0,   0,   0,   0,   0,   0,   0,   0,   0,   0,   0,   0,\n",
              "          0,   0,   0,   0,   0,   0,   0,   0,   0,   0,   0,   0,   0,\n",
              "          0,   0],\n",
              "       [  0,   0,   0,   0,   0,   0,   0,   0,   0,   0,   0,   0,   0,\n",
              "          0,   0,   0,   0,   0,   0,   0,   0,   0,   0,   0,   0,   0,\n",
              "          0,   0],\n",
              "       [  0,   0,   0,   0,   0,   0,   0,   0,   0,   0,   0,   0,   0,\n",
              "          0,   0,   0,   0,   0,   0,   0,   0,   0,   0,   0,   0,   0,\n",
              "          0,   0],\n",
              "       [  0,   0,   0,   0,   0,   0,   0,   0,   0,   0,   0,   0,   3,\n",
              "         18,  18,  18, 126, 136, 175,  26, 166, 255, 247, 127,   0,   0,\n",
              "          0,   0],\n",
              "       [  0,   0,   0,   0,   0,   0,   0,   0,  30,  36,  94, 154, 170,\n",
              "        253, 253, 253, 253, 253, 225, 172, 253, 242, 195,  64,   0,   0,\n",
              "          0,   0],\n",
              "       [  0,   0,   0,   0,   0,   0,   0,  49, 238, 253, 253, 253, 253,\n",
              "        253, 253, 253, 253, 251,  93,  82,  82,  56,  39,   0,   0,   0,\n",
              "          0,   0],\n",
              "       [  0,   0,   0,   0,   0,   0,   0,  18, 219, 253, 253, 253, 253,\n",
              "        253, 198, 182, 247, 241,   0,   0,   0,   0,   0,   0,   0,   0,\n",
              "          0,   0],\n",
              "       [  0,   0,   0,   0,   0,   0,   0,   0,  80, 156, 107, 253, 253,\n",
              "        205,  11,   0,  43, 154,   0,   0,   0,   0,   0,   0,   0,   0,\n",
              "          0,   0],\n",
              "       [  0,   0,   0,   0,   0,   0,   0,   0,   0,  14,   1, 154, 253,\n",
              "         90,   0,   0,   0,   0,   0,   0,   0,   0,   0,   0,   0,   0,\n",
              "          0,   0],\n",
              "       [  0,   0,   0,   0,   0,   0,   0,   0,   0,   0,   0, 139, 253,\n",
              "        190,   2,   0,   0,   0,   0,   0,   0,   0,   0,   0,   0,   0,\n",
              "          0,   0],\n",
              "       [  0,   0,   0,   0,   0,   0,   0,   0,   0,   0,   0,  11, 190,\n",
              "        253,  70,   0,   0,   0,   0,   0,   0,   0,   0,   0,   0,   0,\n",
              "          0,   0],\n",
              "       [  0,   0,   0,   0,   0,   0,   0,   0,   0,   0,   0,   0,  35,\n",
              "        241, 225, 160, 108,   1,   0,   0,   0,   0,   0,   0,   0,   0,\n",
              "          0,   0],\n",
              "       [  0,   0,   0,   0,   0,   0,   0,   0,   0,   0,   0,   0,   0,\n",
              "         81, 240, 253, 253, 119,  25,   0,   0,   0,   0,   0,   0,   0,\n",
              "          0,   0],\n",
              "       [  0,   0,   0,   0,   0,   0,   0,   0,   0,   0,   0,   0,   0,\n",
              "          0,  45, 186, 253, 253, 150,  27,   0,   0,   0,   0,   0,   0,\n",
              "          0,   0],\n",
              "       [  0,   0,   0,   0,   0,   0,   0,   0,   0,   0,   0,   0,   0,\n",
              "          0,   0,  16,  93, 252, 253, 187,   0,   0,   0,   0,   0,   0,\n",
              "          0,   0],\n",
              "       [  0,   0,   0,   0,   0,   0,   0,   0,   0,   0,   0,   0,   0,\n",
              "          0,   0,   0,   0, 249, 253, 249,  64,   0,   0,   0,   0,   0,\n",
              "          0,   0],\n",
              "       [  0,   0,   0,   0,   0,   0,   0,   0,   0,   0,   0,   0,   0,\n",
              "          0,  46, 130, 183, 253, 253, 207,   2,   0,   0,   0,   0,   0,\n",
              "          0,   0],\n",
              "       [  0,   0,   0,   0,   0,   0,   0,   0,   0,   0,   0,   0,  39,\n",
              "        148, 229, 253, 253, 253, 250, 182,   0,   0,   0,   0,   0,   0,\n",
              "          0,   0],\n",
              "       [  0,   0,   0,   0,   0,   0,   0,   0,   0,   0,  24, 114, 221,\n",
              "        253, 253, 253, 253, 201,  78,   0,   0,   0,   0,   0,   0,   0,\n",
              "          0,   0],\n",
              "       [  0,   0,   0,   0,   0,   0,   0,   0,  23,  66, 213, 253, 253,\n",
              "        253, 253, 198,  81,   2,   0,   0,   0,   0,   0,   0,   0,   0,\n",
              "          0,   0],\n",
              "       [  0,   0,   0,   0,   0,   0,  18, 171, 219, 253, 253, 253, 253,\n",
              "        195,  80,   9,   0,   0,   0,   0,   0,   0,   0,   0,   0,   0,\n",
              "          0,   0],\n",
              "       [  0,   0,   0,   0,  55, 172, 226, 253, 253, 253, 253, 244, 133,\n",
              "         11,   0,   0,   0,   0,   0,   0,   0,   0,   0,   0,   0,   0,\n",
              "          0,   0],\n",
              "       [  0,   0,   0,   0, 136, 253, 253, 253, 212, 135, 132,  16,   0,\n",
              "          0,   0,   0,   0,   0,   0,   0,   0,   0,   0,   0,   0,   0,\n",
              "          0,   0],\n",
              "       [  0,   0,   0,   0,   0,   0,   0,   0,   0,   0,   0,   0,   0,\n",
              "          0,   0,   0,   0,   0,   0,   0,   0,   0,   0,   0,   0,   0,\n",
              "          0,   0],\n",
              "       [  0,   0,   0,   0,   0,   0,   0,   0,   0,   0,   0,   0,   0,\n",
              "          0,   0,   0,   0,   0,   0,   0,   0,   0,   0,   0,   0,   0,\n",
              "          0,   0],\n",
              "       [  0,   0,   0,   0,   0,   0,   0,   0,   0,   0,   0,   0,   0,\n",
              "          0,   0,   0,   0,   0,   0,   0,   0,   0,   0,   0,   0,   0,\n",
              "          0,   0]], dtype=uint8)"
            ]
          },
          "metadata": {},
          "execution_count": 22
        }
      ]
    },
    {
      "cell_type": "code",
      "metadata": {
        "colab": {
          "base_uri": "https://localhost:8080/"
        },
        "id": "jQTPXDTFn5P-",
        "outputId": "c7508c6e-735c-43ea-acfe-ebf03ce7f437"
      },
      "source": [
        "X_train[0].shape"
      ],
      "execution_count": 23,
      "outputs": [
        {
          "output_type": "execute_result",
          "data": {
            "text/plain": [
              "(28, 28)"
            ]
          },
          "metadata": {},
          "execution_count": 23
        }
      ]
    },
    {
      "cell_type": "markdown",
      "metadata": {
        "id": "VzTPZpTloR5S"
      },
      "source": [
        "To represent the data visually:"
      ]
    },
    {
      "cell_type": "code",
      "metadata": {
        "colab": {
          "base_uri": "https://localhost:8080/",
          "height": 292
        },
        "id": "KD2zUsOyoKl3",
        "outputId": "9ec3cb09-b6f6-4dd5-8c38-8c51e28b7e59"
      },
      "source": [
        "plt.matshow(X_train[0])"
      ],
      "execution_count": 24,
      "outputs": [
        {
          "output_type": "execute_result",
          "data": {
            "text/plain": [
              "<matplotlib.image.AxesImage at 0x7f1444cce350>"
            ]
          },
          "metadata": {},
          "execution_count": 24
        },
        {
          "output_type": "display_data",
          "data": {
            "image/png": "[encoded data removed]",
            "text/plain": [
              "<Figure size 288x288 with 1 Axes>"
            ]
          },
          "metadata": {
            "needs_background": "light"
          }
        }
      ]
    },
    {
      "cell_type": "markdown",
      "metadata": {
        "id": "PxDRQnzUos6t"
      },
      "source": [
        "The output of the X_train[0] in the dataset y_train:"
      ]
    },
    {
      "cell_type": "code",
      "metadata": {
        "colab": {
          "base_uri": "https://localhost:8080/"
        },
        "id": "56xXIkQOowws",
        "outputId": "c8c4cfdd-f581-43b2-9e62-ee3568eb8ce0"
      },
      "source": [
        "y_train[0]"
      ],
      "execution_count": 25,
      "outputs": [
        {
          "output_type": "execute_result",
          "data": {
            "text/plain": [
              "5"
            ]
          },
          "metadata": {},
          "execution_count": 25
        }
      ]
    },
    {
      "cell_type": "markdown",
      "metadata": {
        "id": "fWPDtUVfo49z"
      },
      "source": [
        "### **Preparing the dataset to fed into the input layer**"
      ]
    },
    {
      "cell_type": "markdown",
      "metadata": {
        "id": "oRWkh_ePsoHe"
      },
      "source": [
        "Scaling the dataset to imporve the model to predict more accurately"
      ]
    },
    {
      "cell_type": "code",
      "metadata": {
        "id": "ELsuS6Cismvh"
      },
      "source": [
        "X_train = X_train / 255\n",
        "X_test = X_test / 255"
      ],
      "execution_count": 26,
      "outputs": []
    },
    {
      "cell_type": "markdown",
      "metadata": {
        "id": "xtCv8OOwpGQ-"
      },
      "source": [
        "We have to flatten (reshape) the 2D dataset into 1D dataset to fed it into the input layer of the neural network."
      ]
    },
    {
      "cell_type": "code",
      "metadata": {
        "colab": {
          "base_uri": "https://localhost:8080/"
        },
        "id": "9HiK4NmGoyWE",
        "outputId": "57bbc964-b9e7-4077-cfc2-8d29685ee881"
      },
      "source": [
        "X_train_flattened = X_train.reshape(len(X_train),28*28)\n",
        "X_train_flattened.shape"
      ],
      "execution_count": 27,
      "outputs": [
        {
          "output_type": "execute_result",
          "data": {
            "text/plain": [
              "(60000, 784)"
            ]
          },
          "metadata": {},
          "execution_count": 27
        }
      ]
    },
    {
      "cell_type": "code",
      "metadata": {
        "colab": {
          "base_uri": "https://localhost:8080/"
        },
        "id": "vZAiJUynpyHL",
        "outputId": "11020598-13ef-4875-9254-e3e6fb0bc209"
      },
      "source": [
        "X_test_flattened = X_test.reshape(len(X_test), 28*28)\n",
        "X_test_flattened.shape"
      ],
      "execution_count": 28,
      "outputs": [
        {
          "output_type": "execute_result",
          "data": {
            "text/plain": [
              "(10000, 784)"
            ]
          },
          "metadata": {},
          "execution_count": 28
        }
      ]
    },
    {
      "cell_type": "markdown",
      "metadata": {
        "id": "7kDWJyLGqKfn"
      },
      "source": [
        "### **Creating Simple Neural Network**"
      ]
    },
    {
      "cell_type": "markdown",
      "metadata": {
        "id": "gDZepewJqzZS"
      },
      "source": [
        "The Neural Network Model has one computational layer, which will have **10 outputs**, **784 input features**, and a **sigmoid activation function** "
      ]
    },
    {
      "cell_type": "code",
      "metadata": {
        "id": "gVnEJl8KqAej"
      },
      "source": [
        "model = keras.Sequential([keras.layers.Dense(10, input_shape = (784,), activation='sigmoid')])"
      ],
      "execution_count": 29,
      "outputs": []
    },
    {
      "cell_type": "markdown",
      "metadata": {
        "id": "2qsiD7hbrSQe"
      },
      "source": [
        "After building the model we have to compile the model"
      ]
    },
    {
      "cell_type": "code",
      "metadata": {
        "id": "HvO5fBz2rWG2"
      },
      "source": [
        "model.compile(optimizer='adam', loss ='sparse_categorical_crossentropy', metrics=['accuracy'])"
      ],
      "execution_count": 30,
      "outputs": []
    },
    {
      "cell_type": "markdown",
      "metadata": {
        "id": "jUiZjGJ_sJD-"
      },
      "source": [
        "Now we supplying the training dataset to the model"
      ]
    },
    {
      "cell_type": "code",
      "metadata": {
        "colab": {
          "base_uri": "https://localhost:8080/"
        },
        "id": "KvwMKWGfsHbR",
        "outputId": "a3135e58-da7c-4c4e-c9bb-b9b4b2b23b09"
      },
      "source": [
        "model.fit(X_train_flattened, y_train, epochs=10)"
      ],
      "execution_count": 31,
      "outputs": [
        {
          "output_type": "stream",
          "name": "stdout",
          "text": [
            "Epoch 1/10\n",
            "1875/1875 [==============================] - 3s 1ms/step - loss: 0.4719 - accuracy: 0.8763\n",
            "Epoch 2/10\n",
            "1875/1875 [==============================] - 3s 1ms/step - loss: 0.3043 - accuracy: 0.9149\n",
            "Epoch 3/10\n",
            "1875/1875 [==============================] - 3s 1ms/step - loss: 0.2838 - accuracy: 0.9202\n",
            "Epoch 4/10\n",
            "1875/1875 [==============================] - 3s 1ms/step - loss: 0.2733 - accuracy: 0.9236\n",
            "Epoch 5/10\n",
            "1875/1875 [==============================] - 3s 1ms/step - loss: 0.2671 - accuracy: 0.9258\n",
            "Epoch 6/10\n",
            "1875/1875 [==============================] - 3s 1ms/step - loss: 0.2623 - accuracy: 0.9268\n",
            "Epoch 7/10\n",
            "1875/1875 [==============================] - 3s 1ms/step - loss: 0.2586 - accuracy: 0.9285\n",
            "Epoch 8/10\n",
            "1875/1875 [==============================] - 3s 1ms/step - loss: 0.2554 - accuracy: 0.9290\n",
            "Epoch 9/10\n",
            "1875/1875 [==============================] - 3s 1ms/step - loss: 0.2533 - accuracy: 0.9306\n",
            "Epoch 10/10\n",
            "1875/1875 [==============================] - 3s 1ms/step - loss: 0.2510 - accuracy: 0.9304\n"
          ]
        },
        {
          "output_type": "execute_result",
          "data": {
            "text/plain": [
              "<keras.callbacks.History at 0x7f1444ca7750>"
            ]
          },
          "metadata": {},
          "execution_count": 31
        }
      ]
    },
    {
      "cell_type": "markdown",
      "metadata": {
        "id": "JVyIMkEbtPHU"
      },
      "source": [
        "### **Evaluating the Test Dataset**"
      ]
    },
    {
      "cell_type": "code",
      "metadata": {
        "colab": {
          "base_uri": "https://localhost:8080/"
        },
        "id": "3OgK9z-VtOnn",
        "outputId": "1984d11d-7420-4eac-8a78-2a41d7568a6b"
      },
      "source": [
        "model.evaluate(X_test_flattened, y_test)"
      ],
      "execution_count": 32,
      "outputs": [
        {
          "output_type": "stream",
          "name": "stdout",
          "text": [
            "313/313 [==============================] - 0s 1ms/step - loss: 0.2652 - accuracy: 0.9296\n"
          ]
        },
        {
          "output_type": "execute_result",
          "data": {
            "text/plain": [
              "[0.2652016878128052, 0.9296000003814697]"
            ]
          },
          "metadata": {},
          "execution_count": 32
        }
      ]
    },
    {
      "cell_type": "markdown",
      "metadata": {
        "id": "GUMc3OyWt5cr"
      },
      "source": [
        "Evaluating the test dataset one at a time"
      ]
    },
    {
      "cell_type": "code",
      "metadata": {
        "id": "0P-zOn4ksVD4"
      },
      "source": [
        "# Storing the predicting output \n",
        "y_predicted = model.predict(X_test_flattened)"
      ],
      "execution_count": 33,
      "outputs": []
    },
    {
      "cell_type": "code",
      "metadata": {
        "colab": {
          "base_uri": "https://localhost:8080/"
        },
        "id": "iOYNoAtNuU4-",
        "outputId": "dc92f50c-904d-4ecc-a504-4c64c9d1cddd"
      },
      "source": [
        "# The first predicted dataset\n",
        "y_predicted[0]"
      ],
      "execution_count": 34,
      "outputs": [
        {
          "output_type": "execute_result",
          "data": {
            "text/plain": [
              "array([3.0451715e-03, 1.0616656e-08, 3.4784436e-02, 9.6921539e-01,\n",
              "       1.6413033e-03, 1.6549376e-01, 4.0801410e-08, 9.9984944e-01,\n",
              "       9.1574252e-02, 7.4419105e-01], dtype=float32)"
            ]
          },
          "metadata": {},
          "execution_count": 34
        }
      ]
    },
    {
      "cell_type": "code",
      "metadata": {
        "colab": {
          "base_uri": "https://localhost:8080/"
        },
        "id": "47rHhlVVubaj",
        "outputId": "12e73fa8-a86b-4fc4-bd3a-1dbf5ce0cda6"
      },
      "source": [
        "# Finding the maximum out of this value\n",
        "np.argmax(y_predicted[0])"
      ],
      "execution_count": 35,
      "outputs": [
        {
          "output_type": "execute_result",
          "data": {
            "text/plain": [
              "7"
            ]
          },
          "metadata": {},
          "execution_count": 35
        }
      ]
    },
    {
      "cell_type": "code",
      "metadata": {
        "colab": {
          "base_uri": "https://localhost:8080/",
          "height": 292
        },
        "id": "PRQqUGXUunS0",
        "outputId": "5b0fa21a-25c2-4eaa-8013-e9908f4b473c"
      },
      "source": [
        "# Chaecking whether the prediction is correct or not\n",
        "plt.matshow(X_test[0])"
      ],
      "execution_count": 37,
      "outputs": [
        {
          "output_type": "execute_result",
          "data": {
            "text/plain": [
              "<matplotlib.image.AxesImage at 0x7f1444a6ec50>"
            ]
          },
          "metadata": {},
          "execution_count": 37
        },
        {
          "output_type": "display_data",
          "data": {
            "image/png": "[encoded data removed]",
            "text/plain": [
              "<Figure size 288x288 with 1 Axes>"
            ]
          },
          "metadata": {
            "needs_background": "light"
          }
        }
      ]
    },
    {
      "cell_type": "markdown",
      "metadata": {
        "id": "3r6GsqBivS0f"
      },
      "source": [
        "### **Creating a Confusion Matrix**"
      ]
    },
    {
      "cell_type": "markdown",
      "metadata": {
        "id": "5Poxwyq2vZp4"
      },
      "source": [
        "The confusion matrix are often created to visualized the performance of the model. It will make the comparison between the actual output and th epredicted output."
      ]
    },
    {
      "cell_type": "code",
      "metadata": {
        "colab": {
          "base_uri": "https://localhost:8080/"
        },
        "id": "5L9DCxiOuvFG",
        "outputId": "ff031458-00c0-4236-9333-e67b1ce40de3"
      },
      "source": [
        "# We need to store the all maxvalue from the prediction matrix\n",
        "y_predicted[0]"
      ],
      "execution_count": 38,
      "outputs": [
        {
          "output_type": "execute_result",
          "data": {
            "text/plain": [
              "array([3.0451715e-03, 1.0616656e-08, 3.4784436e-02, 9.6921539e-01,\n",
              "       1.6413033e-03, 1.6549376e-01, 4.0801410e-08, 9.9984944e-01,\n",
              "       9.1574252e-02, 7.4419105e-01], dtype=float32)"
            ]
          },
          "metadata": {},
          "execution_count": 38
        }
      ]
    },
    {
      "cell_type": "code",
      "metadata": {
        "colab": {
          "base_uri": "https://localhost:8080/"
        },
        "id": "y-h2CrUQv4od",
        "outputId": "a0752ee7-9270-4a00-9038-c4c025428619"
      },
      "source": [
        "y_predicted_label = [np.argmax(i) for i in y_predicted]\n",
        "y_predicted_label[:10]"
      ],
      "execution_count": 41,
      "outputs": [
        {
          "output_type": "execute_result",
          "data": {
            "text/plain": [
              "[7, 2, 1, 0, 4, 1, 4, 9, 6, 9]"
            ]
          },
          "metadata": {},
          "execution_count": 41
        }
      ]
    },
    {
      "cell_type": "markdown",
      "metadata": {
        "id": "ciRs_TgTwR-y"
      },
      "source": [
        "We have to make the coversion to compare the predicted value to the actual output value."
      ]
    },
    {
      "cell_type": "code",
      "metadata": {
        "colab": {
          "base_uri": "https://localhost:8080/"
        },
        "id": "rAdls-2owJvS",
        "outputId": "148f82d1-fe1b-4b2e-c44f-e24e7747ab4c"
      },
      "source": [
        "# Confusion matix\n",
        "confusion_matrix = tf.math.confusion_matrix(labels= y_test, predictions= y_predicted_label)\n",
        "confusion_matrix"
      ],
      "execution_count": 43,
      "outputs": [
        {
          "output_type": "execute_result",
          "data": {
            "text/plain": [
              "<tf.Tensor: shape=(10, 10), dtype=int32, numpy=\n",
              "array([[ 952,    0,    4,    2,    0,    6,   11,    2,    2,    1],\n",
              "       [   0, 1108,    5,    1,    0,    1,    4,    2,   14,    0],\n",
              "       [   3,    6,  951,    5,    7,    5,   12,    8,   32,    3],\n",
              "       [   3,    0,   29,  903,    1,   30,    3,    8,   26,    7],\n",
              "       [   1,    1,    6,    1,  915,    0,   12,    4,    8,   34],\n",
              "       [   7,    2,    7,   25,    9,  783,   13,    7,   33,    6],\n",
              "       [   6,    3,   10,    1,    7,   10,  917,    1,    3,    0],\n",
              "       [   1,    6,   27,    2,    8,    1,    0,  942,    2,   39],\n",
              "       [   5,    5,    8,   13,    9,   19,   10,    6,  889,   10],\n",
              "       [   7,    5,    3,    7,   22,    5,    0,   13,   11,  936]],\n",
              "      dtype=int32)>"
            ]
          },
          "metadata": {},
          "execution_count": 43
        }
      ]
    },
    {
      "cell_type": "code",
      "metadata": {
        "colab": {
          "base_uri": "https://localhost:8080/",
          "height": 459
        },
        "id": "XrwPmkNswwPK",
        "outputId": "d0d6f208-9bf1-4bd7-c257-8d40328a666c"
      },
      "source": [
        "# To visualize the comparision\n",
        "plt.figure(figsize= (10,7))\n",
        "sns.heatmap(confusion_matrix, annot=True, fmt = 'd')\n",
        "plt.xlabel('Predicted')\n",
        "plt.ylabel('Truth')"
      ],
      "execution_count": 46,
      "outputs": [
        {
          "output_type": "execute_result",
          "data": {
            "text/plain": [
              "Text(69.0, 0.5, 'Truth')"
            ]
          },
          "metadata": {},
          "execution_count": 46
        },
        {
          "output_type": "display_data",
          "data": {
            "image/png": "[encoded data removed]",
            "text/plain": [
              "<Figure size 720x504 with 2 Axes>"
            ]
          },
          "metadata": {
            "needs_background": "light"
          }
        }
      ]
    },
    {
      "cell_type": "markdown",
      "metadata": {
        "id": "m324rcyAxq-B"
      },
      "source": [
        "\n",
        "\n",
        "---\n",
        "\n"
      ]
    },
    {
      "cell_type": "markdown",
      "metadata": {
        "id": "q5CUTTe4xx-g"
      },
      "source": [
        "After comparing the actual and the predicted value we have realised that there was significant amounts of errors. "
      ]
    },
    {
      "cell_type": "markdown",
      "metadata": {
        "id": "L6RwbR4SyF2j"
      },
      "source": [
        "To solve this proble(*To minimize the error*) we will add hidden layers:"
      ]
    },
    {
      "cell_type": "code",
      "metadata": {
        "id": "LXc2o4w3ydBv"
      },
      "source": [
        "model = keras.Sequential([\n",
        "                          keras.layers.Dense(100, input_shape = (784,), activation='relu'),\n",
        "                          keras.layers.Dense(10, activation= 'sigmoid')\n",
        "                          ])"
      ],
      "execution_count": 48,
      "outputs": []
    },
    {
      "cell_type": "code",
      "metadata": {
        "id": "OD7NGGdVy4td"
      },
      "source": [
        "model.compile(optimizer='adam', loss ='sparse_categorical_crossentropy', metrics=['accuracy'])"
      ],
      "execution_count": 49,
      "outputs": []
    },
    {
      "cell_type": "code",
      "metadata": {
        "colab": {
          "base_uri": "https://localhost:8080/"
        },
        "id": "Kzl-1N-Hy8gh",
        "outputId": "39e88ab5-bbe0-4c13-cad5-f7721b4fc5ad"
      },
      "source": [
        "model.fit(X_train_flattened, y_train, epochs=10)"
      ],
      "execution_count": 50,
      "outputs": [
        {
          "output_type": "stream",
          "name": "stdout",
          "text": [
            "Epoch 1/10\n",
            "1875/1875 [==============================] - 4s 2ms/step - loss: 0.2781 - accuracy: 0.9213\n",
            "Epoch 2/10\n",
            "1875/1875 [==============================] - 4s 2ms/step - loss: 0.1277 - accuracy: 0.9635\n",
            "Epoch 3/10\n",
            "1875/1875 [==============================] - 4s 2ms/step - loss: 0.0887 - accuracy: 0.9741\n",
            "Epoch 4/10\n",
            "1875/1875 [==============================] - 4s 2ms/step - loss: 0.0670 - accuracy: 0.9798\n",
            "Epoch 5/10\n",
            "1875/1875 [==============================] - 4s 2ms/step - loss: 0.0527 - accuracy: 0.9842\n",
            "Epoch 6/10\n",
            "1875/1875 [==============================] - 4s 2ms/step - loss: 0.0428 - accuracy: 0.9868\n",
            "Epoch 7/10\n",
            "1875/1875 [==============================] - 4s 2ms/step - loss: 0.0336 - accuracy: 0.9894\n",
            "Epoch 8/10\n",
            "1875/1875 [==============================] - 4s 2ms/step - loss: 0.0274 - accuracy: 0.9918\n",
            "Epoch 9/10\n",
            "1875/1875 [==============================] - 4s 2ms/step - loss: 0.0238 - accuracy: 0.9925\n",
            "Epoch 10/10\n",
            "1875/1875 [==============================] - 4s 2ms/step - loss: 0.0184 - accuracy: 0.9942\n"
          ]
        },
        {
          "output_type": "execute_result",
          "data": {
            "text/plain": [
              "<keras.callbacks.History at 0x7f143143e910>"
            ]
          },
          "metadata": {},
          "execution_count": 50
        }
      ]
    },
    {
      "cell_type": "markdown",
      "metadata": {
        "id": "_238skaczLRr"
      },
      "source": [
        "The accurary value has increased as we have added one hidden layer."
      ]
    },
    {
      "cell_type": "code",
      "metadata": {
        "colab": {
          "base_uri": "https://localhost:8080/"
        },
        "id": "wO-Zu100zA9m",
        "outputId": "83e65a97-3e6d-4b9e-a0f7-36d675181908"
      },
      "source": [
        "# Evaluating the model using test dataset\n",
        "model.evaluate(X_test_flattened, y_test)"
      ],
      "execution_count": 51,
      "outputs": [
        {
          "output_type": "stream",
          "name": "stdout",
          "text": [
            "313/313 [==============================] - 1s 1ms/step - loss: 0.0914 - accuracy: 0.9748\n"
          ]
        },
        {
          "output_type": "execute_result",
          "data": {
            "text/plain": [
              "[0.09144201129674911, 0.9747999906539917]"
            ]
          },
          "metadata": {},
          "execution_count": 51
        }
      ]
    },
    {
      "cell_type": "code",
      "metadata": {
        "colab": {
          "base_uri": "https://localhost:8080/"
        },
        "id": "e--l-hKezZ3O",
        "outputId": "286397fc-bb72-48cb-c0a0-ef2318021538"
      },
      "source": [
        "# Creating the confusion matrix\n",
        "y_predicted = model.predict(X_test_flattened)\n",
        "y_predicted_label = [np.argmax(i) for i in y_predicted]\n",
        "\n",
        "# Confusion matix\n",
        "confusion_matrix = tf.math.confusion_matrix(labels= y_test, predictions= y_predicted_label)\n",
        "confusion_matrix"
      ],
      "execution_count": 53,
      "outputs": [
        {
          "output_type": "execute_result",
          "data": {
            "text/plain": [
              "<tf.Tensor: shape=(10, 10), dtype=int32, numpy=\n",
              "array([[ 965,    1,    0,    2,    2,    3,    2,    1,    2,    2],\n",
              "       [   0, 1126,    4,    0,    0,    0,    2,    0,    3,    0],\n",
              "       [   4,    1, 1007,    4,    4,    0,    2,    5,    5,    0],\n",
              "       [   0,    0,    1,  996,    0,    0,    0,    5,    3,    5],\n",
              "       [   1,    0,    2,    0,  960,    1,    7,    0,    1,   10],\n",
              "       [   1,    0,    0,   36,    2,  834,    6,    0,    8,    5],\n",
              "       [   3,    3,    2,    1,    4,    2,  941,    0,    2,    0],\n",
              "       [   1,    5,   10,    3,    0,    0,    0,  993,    4,   12],\n",
              "       [   1,    1,    3,   12,    5,    4,    2,    3,  942,    1],\n",
              "       [   1,    2,    0,    9,    5,    1,    0,    3,    4,  984]],\n",
              "      dtype=int32)>"
            ]
          },
          "metadata": {},
          "execution_count": 53
        }
      ]
    },
    {
      "cell_type": "code",
      "metadata": {
        "colab": {
          "base_uri": "https://localhost:8080/",
          "height": 459
        },
        "id": "8dJuUtrdztxb",
        "outputId": "a64d845a-ec06-4257-ba13-1b569e277365"
      },
      "source": [
        "# To visualize the comparision\n",
        "plt.figure(figsize= (10,7))\n",
        "sns.heatmap(confusion_matrix, annot=True, fmt = 'd')\n",
        "plt.xlabel('Predicted')\n",
        "plt.ylabel('Truth')"
      ],
      "execution_count": 54,
      "outputs": [
        {
          "output_type": "execute_result",
          "data": {
            "text/plain": [
              "Text(69.0, 0.5, 'Truth')"
            ]
          },
          "metadata": {},
          "execution_count": 54
        },
        {
          "output_type": "display_data",
          "data": {
            "image/png": "[encoded data removed]",
            "text/plain": [
              "<Figure size 720x504 with 2 Axes>"
            ]
          },
          "metadata": {
            "needs_background": "light"
          }
        }
      ]
    },
    {
      "cell_type": "code",
      "metadata": {
        "id": "U2bD2lgW0B7h"
      },
      "source": [
        ""
      ],
      "execution_count": null,
      "outputs": []
    }
  ]
}